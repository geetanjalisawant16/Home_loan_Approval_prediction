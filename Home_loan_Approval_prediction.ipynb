{
  "nbformat": 4,
  "nbformat_minor": 0,
  "metadata": {
    "colab": {
      "provenance": [],
      "authorship_tag": "ABX9TyP0bqyiYI2kBtX8mAaY6nNe",
      "include_colab_link": true
    },
    "kernelspec": {
      "name": "python3",
      "display_name": "Python 3"
    },
    "language_info": {
      "name": "python"
    }
  },
  "cells": [
    {
      "cell_type": "markdown",
      "metadata": {
        "id": "view-in-github",
        "colab_type": "text"
      },
      "source": [
        "<a href=\"https://colab.research.google.com/github/geetanjalisawant16/Home_loan_Approval_prediction/blob/main/Home_loan_Approval_prediction.ipynb\" target=\"_parent\"><img src=\"https://colab.research.google.com/assets/colab-badge.svg\" alt=\"Open In Colab\"/></a>"
      ]
    },
    {
      "cell_type": "code",
      "execution_count": null,
      "metadata": {
        "colab": {
          "base_uri": "https://localhost:8080/"
        },
        "id": "8AmGb96VHyuP",
        "outputId": "749f5faa-2ae0-4663-9f42-f54e9db9cce3"
      },
      "outputs": [
        {
          "output_type": "stream",
          "name": "stdout",
          "text": [
            "    Loan_ID Gender Married Dependents     Education Self_Employed  \\\n",
            "0  LP001002   Male      No          0      Graduate            No   \n",
            "1  LP001003   Male     Yes          1      Graduate            No   \n",
            "2  LP001005   Male     Yes          0      Graduate           Yes   \n",
            "3  LP001006   Male     Yes          0  Not Graduate            No   \n",
            "4  LP001008   Male      No          0      Graduate            No   \n",
            "\n",
            "   ApplicantIncome  CoapplicantIncome  LoanAmount  Loan_Amount_Term  \\\n",
            "0             5849                0.0         NaN             360.0   \n",
            "1             4583             1508.0       128.0             360.0   \n",
            "2             3000                0.0        66.0             360.0   \n",
            "3             2583             2358.0       120.0             360.0   \n",
            "4             6000                0.0       141.0             360.0   \n",
            "\n",
            "   Credit_History Property_Area Loan_Status  \n",
            "0             1.0         Urban           Y  \n",
            "1             1.0         Rural           N  \n",
            "2             1.0         Urban           Y  \n",
            "3             1.0         Urban           Y  \n",
            "4             1.0         Urban           Y  \n"
          ]
        }
      ],
      "source": [
        "import pandas as pd\n",
        "import numpy as np\n",
        "import seaborn as sns\n",
        "import warnings\n",
        "warnings.filterwarnings('ignore')\n",
        "import matplotlib.pyplot as plt\n",
        "\n",
        "data = pd.read_csv(r\"/content/loan_sanction_train.csv\")\n",
        "data_save = data.copy()\n",
        "\n",
        "print(data.head())\n",
        "\n",
        "\n"
      ]
    },
    {
      "cell_type": "code",
      "source": [
        "\n",
        "print(data.shape)\n",
        "print(data.Loan_Status.value_counts(normalize = True))\n",
        "print(data.info())\n",
        "print(data.describe())"
      ],
      "metadata": {
        "colab": {
          "base_uri": "https://localhost:8080/"
        },
        "id": "g0Isikc_IgTP",
        "outputId": "73d059ad-4a13-4573-bf7a-392a7e5b2a6a"
      },
      "execution_count": null,
      "outputs": [
        {
          "output_type": "stream",
          "name": "stdout",
          "text": [
            "(614, 13)\n",
            "Y    0.687296\n",
            "N    0.312704\n",
            "Name: Loan_Status, dtype: float64\n",
            "<class 'pandas.core.frame.DataFrame'>\n",
            "RangeIndex: 614 entries, 0 to 613\n",
            "Data columns (total 13 columns):\n",
            " #   Column             Non-Null Count  Dtype  \n",
            "---  ------             --------------  -----  \n",
            " 0   Loan_ID            614 non-null    object \n",
            " 1   Gender             601 non-null    object \n",
            " 2   Married            611 non-null    object \n",
            " 3   Dependents         599 non-null    object \n",
            " 4   Education          614 non-null    object \n",
            " 5   Self_Employed      582 non-null    object \n",
            " 6   ApplicantIncome    614 non-null    int64  \n",
            " 7   CoapplicantIncome  614 non-null    float64\n",
            " 8   LoanAmount         592 non-null    float64\n",
            " 9   Loan_Amount_Term   600 non-null    float64\n",
            " 10  Credit_History     564 non-null    float64\n",
            " 11  Property_Area      614 non-null    object \n",
            " 12  Loan_Status        614 non-null    object \n",
            "dtypes: float64(4), int64(1), object(8)\n",
            "memory usage: 62.5+ KB\n",
            "None\n",
            "       ApplicantIncome  CoapplicantIncome  LoanAmount  Loan_Amount_Term  \\\n",
            "count       614.000000         614.000000  592.000000         600.00000   \n",
            "mean       5403.459283        1621.245798  146.412162         342.00000   \n",
            "std        6109.041673        2926.248369   85.587325          65.12041   \n",
            "min         150.000000           0.000000    9.000000          12.00000   \n",
            "25%        2877.500000           0.000000  100.000000         360.00000   \n",
            "50%        3812.500000        1188.500000  128.000000         360.00000   \n",
            "75%        5795.000000        2297.250000  168.000000         360.00000   \n",
            "max       81000.000000       41667.000000  700.000000         480.00000   \n",
            "\n",
            "       Credit_History  \n",
            "count      564.000000  \n",
            "mean         0.842199  \n",
            "std          0.364878  \n",
            "min          0.000000  \n",
            "25%          1.000000  \n",
            "50%          1.000000  \n",
            "75%          1.000000  \n",
            "max          1.000000  \n"
          ]
        }
      ]
    },
    {
      "cell_type": "markdown",
      "source": [
        "#Conclusion:\n",
        "Dataset size : (615, 13)\n",
        "Target : Yes = 422, No = 192 -> 31% N / 69% Y (we have a unbalenced dataset)\n",
        "Different types : object = 8, float = 4, int = 1\n",
        "Missing values : We have 7 columns that contain missing values(not many values).\n"
      ],
      "metadata": {
        "id": "y9xeT3rHIjKo"
      }
    },
    {
      "cell_type": "markdown",
      "source": [
        "# Continuous variable histogram\n",
        "We have here in both cases a positive asymmetry, which means that the outliers are on the left (mean > median). Indeed, the mean in the column CoapplicantIncome is 1621 while the median is 1188.\n",
        "Same for the column LoanAmount\n"
      ],
      "metadata": {
        "id": "LiCxs4cPICI7"
      }
    },
    {
      "cell_type": "code",
      "source": [
        "for col in data.select_dtypes('float'):\n",
        "    if col != 'Credit_History' and col != 'Loan_Amount_Term' :   # credit_history(1/0).\n",
        "        plt.figure(figsize=[10,4])\n",
        "        plt.title(col)\n",
        "        print(sns.distplot(x = data[col]))"
      ],
      "metadata": {
        "colab": {
          "base_uri": "https://localhost:8080/",
          "height": 792
        },
        "id": "PMnd0YGVH7-f",
        "outputId": "df418fe9-868e-47fd-b292-b6fde8faac73"
      },
      "execution_count": null,
      "outputs": [
        {
          "output_type": "stream",
          "name": "stdout",
          "text": [
            "Axes(0.125,0.11;0.775x0.77)\n",
            "Axes(0.125,0.11;0.775x0.77)\n"
          ]
        },
        {
          "output_type": "display_data",
          "data": {
            "text/plain": [
              "<Figure size 1000x400 with 1 Axes>"
            ],
            "image/png": "[encoded data removed]"
          },
          "metadata": {}
        },
        {
          "output_type": "display_data",
          "data": {
            "text/plain": [
              "<Figure size 1000x400 with 1 Axes>"
            ],
            "image/png": "[encoded data removed]"
          },
          "metadata": {}
        }
      ]
    },
    {
      "cell_type": "code",
      "source": [
        "#Ratio Credit_History / Target\n",
        "pd.crosstab(data['Credit_History'], data['Loan_Status']).plot.bar(color = ['orangered', 'palegreen'], figsize = [15,4])\n",
        "plt.xticks(rotation = 45)\n",
        "plt.title('Loan Status / Credit History')\n",
        "plt.grid()\n",
        "plt.ylabel('Number of loans');\n",
        "\n",
        "pd.crosstab(data['Credit_History'], data['Loan_Status'])"
      ],
      "metadata": {
        "colab": {
          "base_uri": "https://localhost:8080/",
          "height": 543
        },
        "id": "OLe_7csiIGQq",
        "outputId": "64bd102d-ecd2-4646-f696-f689006e8a9e"
      },
      "execution_count": null,
      "outputs": [
        {
          "output_type": "execute_result",
          "data": {
            "text/plain": [
              "Loan_Status      N    Y\n",
              "Credit_History         \n",
              "0.0             82    7\n",
              "1.0             97  378"
            ],
            "text/html": [
              "\n",
              "  <div id=\"df-086e89c9-9496-49a1-8e9b-04fc0c005d34\">\n",
              "    <div class=\"colab-df-container\">\n",
              "      <div>\n",
              "<style scoped>\n",
              "    .dataframe tbody tr th:only-of-type {\n",
              "        vertical-align: middle;\n",
              "    }\n",
              "\n",
              "    .dataframe tbody tr th {\n",
              "        vertical-align: top;\n",
              "    }\n",
              "\n",
              "    .dataframe thead th {\n",
              "        text-align: right;\n",
              "    }\n",
              "</style>\n",
              "<table border=\"1\" class=\"dataframe\">\n",
              "  <thead>\n",
              "    <tr style=\"text-align: right;\">\n",
              "      <th>Loan_Status</th>\n",
              "      <th>N</th>\n",
              "      <th>Y</th>\n",
              "    </tr>\n",
              "    <tr>\n",
              "      <th>Credit_History</th>\n",
              "      <th></th>\n",
              "      <th></th>\n",
              "    </tr>\n",
              "  </thead>\n",
              "  <tbody>\n",
              "    <tr>\n",
              "      <th>0.0</th>\n",
              "      <td>82</td>\n",
              "      <td>7</td>\n",
              "    </tr>\n",
              "    <tr>\n",
              "      <th>1.0</th>\n",
              "      <td>97</td>\n",
              "      <td>378</td>\n",
              "    </tr>\n",
              "  </tbody>\n",
              "</table>\n",
              "</div>\n",
              "      <button class=\"colab-df-convert\" onclick=\"convertToInteractive('df-086e89c9-9496-49a1-8e9b-04fc0c005d34')\"\n",
              "              title=\"Convert this dataframe to an interactive table.\"\n",
              "              style=\"display:none;\">\n",
              "        \n",
              "  <svg xmlns=\"http://www.w3.org/2000/svg\" height=\"24px\"viewBox=\"0 0 24 24\"\n",
              "       width=\"24px\">\n",
              "    <path d=\"M0 0h24v24H0V0z\" fill=\"none\"/>\n",
              "    <path d=\"M18.56 5.44l.94 2.06.94-2.06 2.06-.94-2.06-.94-.94-2.06-.94 2.06-2.06.94zm-11 1L8.5 8.5l.94-2.06 2.06-.94-2.06-.94L8.5 2.5l-.94 2.06-2.06.94zm10 10l.94 2.06.94-2.06 2.06-.94-2.06-.94-.94-2.06-.94 2.06-2.06.94z\"/><path d=\"M17.41 7.96l-1.37-1.37c-.4-.4-.92-.59-1.43-.59-.52 0-1.04.2-1.43.59L10.3 9.45l-7.72 7.72c-.78.78-.78 2.05 0 2.83L4 21.41c.39.39.9.59 1.41.59.51 0 1.02-.2 1.41-.59l7.78-7.78 2.81-2.81c.8-.78.8-2.07 0-2.86zM5.41 20L4 18.59l7.72-7.72 1.47 1.35L5.41 20z\"/>\n",
              "  </svg>\n",
              "      </button>\n",
              "      \n",
              "  <style>\n",
              "    .colab-df-container {\n",
              "      display:flex;\n",
              "      flex-wrap:wrap;\n",
              "      gap: 12px;\n",
              "    }\n",
              "\n",
              "    .colab-df-convert {\n",
              "      background-color: #E8F0FE;\n",
              "      border: none;\n",
              "      border-radius: 50%;\n",
              "      cursor: pointer;\n",
              "      display: none;\n",
              "      fill: #1967D2;\n",
              "      height: 32px;\n",
              "      padding: 0 0 0 0;\n",
              "      width: 32px;\n",
              "    }\n",
              "\n",
              "    .colab-df-convert:hover {\n",
              "      background-color: #E2EBFA;\n",
              "      box-shadow: 0px 1px 2px rgba(60, 64, 67, 0.3), 0px 1px 3px 1px rgba(60, 64, 67, 0.15);\n",
              "      fill: #174EA6;\n",
              "    }\n",
              "\n",
              "    [theme=dark] .colab-df-convert {\n",
              "      background-color: #3B4455;\n",
              "      fill: #D2E3FC;\n",
              "    }\n",
              "\n",
              "    [theme=dark] .colab-df-convert:hover {\n",
              "      background-color: #434B5C;\n",
              "      box-shadow: 0px 1px 3px 1px rgba(0, 0, 0, 0.15);\n",
              "      filter: drop-shadow(0px 1px 2px rgba(0, 0, 0, 0.3));\n",
              "      fill: #FFFFFF;\n",
              "    }\n",
              "  </style>\n",
              "\n",
              "      <script>\n",
              "        const buttonEl =\n",
              "          document.querySelector('#df-086e89c9-9496-49a1-8e9b-04fc0c005d34 button.colab-df-convert');\n",
              "        buttonEl.style.display =\n",
              "          google.colab.kernel.accessAllowed ? 'block' : 'none';\n",
              "\n",
              "        async function convertToInteractive(key) {\n",
              "          const element = document.querySelector('#df-086e89c9-9496-49a1-8e9b-04fc0c005d34');\n",
              "          const dataTable =\n",
              "            await google.colab.kernel.invokeFunction('convertToInteractive',\n",
              "                                                     [key], {});\n",
              "          if (!dataTable) return;\n",
              "\n",
              "          const docLinkHtml = 'Like what you see? Visit the ' +\n",
              "            '<a target=\"_blank\" href=https://colab.research.google.com/notebooks/data_table.ipynb>data table notebook</a>'\n",
              "            + ' to learn more about interactive tables.';\n",
              "          element.innerHTML = '';\n",
              "          dataTable['output_type'] = 'display_data';\n",
              "          await google.colab.output.renderOutput(dataTable, element);\n",
              "          const docLink = document.createElement('div');\n",
              "          docLink.innerHTML = docLinkHtml;\n",
              "          element.appendChild(docLink);\n",
              "        }\n",
              "      </script>\n",
              "    </div>\n",
              "  </div>\n",
              "  "
            ]
          },
          "metadata": {},
          "execution_count": 69
        },
        {
          "output_type": "display_data",
          "data": {
            "text/plain": [
              "<Figure size 1500x400 with 1 Axes>"
            ],
            "image/png": "[encoded data removed]"
          },
          "metadata": {}
        }
      ]
    },
    {
      "cell_type": "markdown",
      "source": [
        "Credit_history / target: Concerning our column Credit_History, we can notice that a person having already contracted a loan in the past has a much better chance that his new loan will be accepted (79.5% against 7.8%). So we can hold a hypothesis that having taken out a loan in the past greatly influences the authorization of a new loan"
      ],
      "metadata": {
        "id": "TDcXpBz3I1tF"
      }
    },
    {
      "cell_type": "code",
      "source": [
        "#Ratio Graduate / Target\n",
        "pd.crosstab(data.Education, data.Loan_Status).plot(kind = 'bar', figsize = [15,4])\n",
        "plt.title('Graduation / Loan Status', color = 'blue', size = 17)\n",
        "plt.style.use('seaborn-dark')\n",
        "# plt.grid()\n",
        "plt.xticks(rotation = 0);\n",
        "\n",
        "pd.crosstab(data.Education, data.Loan_Status)\n"
      ],
      "metadata": {
        "colab": {
          "base_uri": "https://localhost:8080/",
          "height": 535
        },
        "id": "SkCOGmgsIxh8",
        "outputId": "2524d18d-b488-4fc6-9ce6-da3fb81e060e"
      },
      "execution_count": null,
      "outputs": [
        {
          "output_type": "execute_result",
          "data": {
            "text/plain": [
              "Loan_Status     N    Y\n",
              "Education             \n",
              "Graduate      140  340\n",
              "Not Graduate   52   82"
            ],
            "text/html": [
              "\n",
              "  <div id=\"df-113f038f-55e5-4475-9691-c858785fb424\">\n",
              "    <div class=\"colab-df-container\">\n",
              "      <div>\n",
              "<style scoped>\n",
              "    .dataframe tbody tr th:only-of-type {\n",
              "        vertical-align: middle;\n",
              "    }\n",
              "\n",
              "    .dataframe tbody tr th {\n",
              "        vertical-align: top;\n",
              "    }\n",
              "\n",
              "    .dataframe thead th {\n",
              "        text-align: right;\n",
              "    }\n",
              "</style>\n",
              "<table border=\"1\" class=\"dataframe\">\n",
              "  <thead>\n",
              "    <tr style=\"text-align: right;\">\n",
              "      <th>Loan_Status</th>\n",
              "      <th>N</th>\n",
              "      <th>Y</th>\n",
              "    </tr>\n",
              "    <tr>\n",
              "      <th>Education</th>\n",
              "      <th></th>\n",
              "      <th></th>\n",
              "    </tr>\n",
              "  </thead>\n",
              "  <tbody>\n",
              "    <tr>\n",
              "      <th>Graduate</th>\n",
              "      <td>140</td>\n",
              "      <td>340</td>\n",
              "    </tr>\n",
              "    <tr>\n",
              "      <th>Not Graduate</th>\n",
              "      <td>52</td>\n",
              "      <td>82</td>\n",
              "    </tr>\n",
              "  </tbody>\n",
              "</table>\n",
              "</div>\n",
              "      <button class=\"colab-df-convert\" onclick=\"convertToInteractive('df-113f038f-55e5-4475-9691-c858785fb424')\"\n",
              "              title=\"Convert this dataframe to an interactive table.\"\n",
              "              style=\"display:none;\">\n",
              "        \n",
              "  <svg xmlns=\"http://www.w3.org/2000/svg\" height=\"24px\"viewBox=\"0 0 24 24\"\n",
              "       width=\"24px\">\n",
              "    <path d=\"M0 0h24v24H0V0z\" fill=\"none\"/>\n",
              "    <path d=\"M18.56 5.44l.94 2.06.94-2.06 2.06-.94-2.06-.94-.94-2.06-.94 2.06-2.06.94zm-11 1L8.5 8.5l.94-2.06 2.06-.94-2.06-.94L8.5 2.5l-.94 2.06-2.06.94zm10 10l.94 2.06.94-2.06 2.06-.94-2.06-.94-.94-2.06-.94 2.06-2.06.94z\"/><path d=\"M17.41 7.96l-1.37-1.37c-.4-.4-.92-.59-1.43-.59-.52 0-1.04.2-1.43.59L10.3 9.45l-7.72 7.72c-.78.78-.78 2.05 0 2.83L4 21.41c.39.39.9.59 1.41.59.51 0 1.02-.2 1.41-.59l7.78-7.78 2.81-2.81c.8-.78.8-2.07 0-2.86zM5.41 20L4 18.59l7.72-7.72 1.47 1.35L5.41 20z\"/>\n",
              "  </svg>\n",
              "      </button>\n",
              "      \n",
              "  <style>\n",
              "    .colab-df-container {\n",
              "      display:flex;\n",
              "      flex-wrap:wrap;\n",
              "      gap: 12px;\n",
              "    }\n",
              "\n",
              "    .colab-df-convert {\n",
              "      background-color: #E8F0FE;\n",
              "      border: none;\n",
              "      border-radius: 50%;\n",
              "      cursor: pointer;\n",
              "      display: none;\n",
              "      fill: #1967D2;\n",
              "      height: 32px;\n",
              "      padding: 0 0 0 0;\n",
              "      width: 32px;\n",
              "    }\n",
              "\n",
              "    .colab-df-convert:hover {\n",
              "      background-color: #E2EBFA;\n",
              "      box-shadow: 0px 1px 2px rgba(60, 64, 67, 0.3), 0px 1px 3px 1px rgba(60, 64, 67, 0.15);\n",
              "      fill: #174EA6;\n",
              "    }\n",
              "\n",
              "    [theme=dark] .colab-df-convert {\n",
              "      background-color: #3B4455;\n",
              "      fill: #D2E3FC;\n",
              "    }\n",
              "\n",
              "    [theme=dark] .colab-df-convert:hover {\n",
              "      background-color: #434B5C;\n",
              "      box-shadow: 0px 1px 3px 1px rgba(0, 0, 0, 0.15);\n",
              "      filter: drop-shadow(0px 1px 2px rgba(0, 0, 0, 0.3));\n",
              "      fill: #FFFFFF;\n",
              "    }\n",
              "  </style>\n",
              "\n",
              "      <script>\n",
              "        const buttonEl =\n",
              "          document.querySelector('#df-113f038f-55e5-4475-9691-c858785fb424 button.colab-df-convert');\n",
              "        buttonEl.style.display =\n",
              "          google.colab.kernel.accessAllowed ? 'block' : 'none';\n",
              "\n",
              "        async function convertToInteractive(key) {\n",
              "          const element = document.querySelector('#df-113f038f-55e5-4475-9691-c858785fb424');\n",
              "          const dataTable =\n",
              "            await google.colab.kernel.invokeFunction('convertToInteractive',\n",
              "                                                     [key], {});\n",
              "          if (!dataTable) return;\n",
              "\n",
              "          const docLinkHtml = 'Like what you see? Visit the ' +\n",
              "            '<a target=\"_blank\" href=https://colab.research.google.com/notebooks/data_table.ipynb>data table notebook</a>'\n",
              "            + ' to learn more about interactive tables.';\n",
              "          element.innerHTML = '';\n",
              "          dataTable['output_type'] = 'display_data';\n",
              "          await google.colab.output.renderOutput(dataTable, element);\n",
              "          const docLink = document.createElement('div');\n",
              "          docLink.innerHTML = docLinkHtml;\n",
              "          element.appendChild(docLink);\n",
              "        }\n",
              "      </script>\n",
              "    </div>\n",
              "  </div>\n",
              "  "
            ]
          },
          "metadata": {},
          "execution_count": 70
        },
        {
          "output_type": "display_data",
          "data": {
            "text/plain": [
              "<Figure size 1500x400 with 1 Axes>"
            ],
            "image/png": "[encoded data removed]"
          },
          "metadata": {}
        }
      ]
    },
    {
      "cell_type": "markdown",
      "source": [
        "Education / Target: A graduate has a 70% chance of being able to take out a mortgage against 61% for a non-graduate. We can therefore assume that the fact of being a graduate or not has no real impact on the authorization of the loan."
      ],
      "metadata": {
        "id": "C4s6wiTsJSOt"
      }
    },
    {
      "cell_type": "code",
      "source": [
        "#outliers\n",
        "plt.figure(figsize= [15,5])\n",
        "sns.boxplot(data = data)\n",
        "plt.style.use('ggplot')\n",
        "plt.grid()"
      ],
      "metadata": {
        "colab": {
          "base_uri": "https://localhost:8080/",
          "height": 440
        },
        "id": "lArleqA_JP3G",
        "outputId": "dfeaab30-1e01-4fb2-f518-60618fea8fcb"
      },
      "execution_count": null,
      "outputs": [
        {
          "output_type": "display_data",
          "data": {
            "text/plain": [
              "<Figure size 1500x500 with 1 Axes>"
            ],
            "image/png": "[encoded data removed]"
          },
          "metadata": {}
        }
      ]
    },
    {
      "cell_type": "code",
      "source": [
        "def detect_outlier(col):\n",
        "    '''\n",
        "    function to detect outliers (using z score)\n",
        "    '''\n",
        "    outliers = []\n",
        "    threshold = 3                       # seuil standard\n",
        "    mean = np.mean(col)\n",
        "    std = np.std(col)\n",
        "\n",
        "    for i in col :\n",
        "        z_score = (i - mean) / std            # formule z-score\n",
        "        if np.abs(z_score) > threshold :\n",
        "            outliers.append(i)\n",
        "    return outliers"
      ],
      "metadata": {
        "id": "uMd_jBwfJYm2"
      },
      "execution_count": null,
      "outputs": []
    },
    {
      "cell_type": "code",
      "source": [
        "detect_outlier(data['ApplicantIncome'])   # drop 81000, 63000"
      ],
      "metadata": {
        "colab": {
          "base_uri": "https://localhost:8080/"
        },
        "id": "tNxf6Op8JdVm",
        "outputId": "2064b37b-00e7-4ce4-9e5a-94577016c247"
      },
      "execution_count": null,
      "outputs": [
        {
          "output_type": "execute_result",
          "data": {
            "text/plain": [
              "[23803, 39999, 51763, 33846, 39147, 63337, 81000, 37719]"
            ]
          },
          "metadata": {},
          "execution_count": 73
        }
      ]
    },
    {
      "cell_type": "code",
      "source": [
        "detect_outlier(data['CoapplicantIncome'])    # drop 41000"
      ],
      "metadata": {
        "colab": {
          "base_uri": "https://localhost:8080/"
        },
        "id": "RbnfGJb-JgjN",
        "outputId": "a93cb395-4722-4e2a-ccdf-122f7366d530"
      },
      "execution_count": null,
      "outputs": [
        {
          "output_type": "execute_result",
          "data": {
            "text/plain": [
              "[10968.0, 11300.0, 20000.0, 20000.0, 33837.0, 41667.0]"
            ]
          },
          "metadata": {},
          "execution_count": 74
        }
      ]
    },
    {
      "cell_type": "code",
      "source": [
        "#Correlation between variables\n",
        "sns.clustermap(data.corr(), annot = True, figsize = [15,5], cmap=\"mako\");"
      ],
      "metadata": {
        "colab": {
          "base_uri": "https://localhost:8080/",
          "height": 501
        },
        "id": "9rCrCPAoJjvG",
        "outputId": "eeff5793-4819-468e-85a3-e4d747e02d8f"
      },
      "execution_count": null,
      "outputs": [
        {
          "output_type": "display_data",
          "data": {
            "text/plain": [
              "<Figure size 1500x500 with 4 Axes>"
            ],
            "image/png": "[encoded data removed]"
          },
          "metadata": {}
        }
      ]
    },
    {
      "cell_type": "code",
      "source": [
        "#Imputation\n",
        "data.isna().sum()"
      ],
      "metadata": {
        "colab": {
          "base_uri": "https://localhost:8080/"
        },
        "id": "ed5qtWH8Jthq",
        "outputId": "f092a366-cca6-49c3-e87a-5fb94328da73"
      },
      "execution_count": null,
      "outputs": [
        {
          "output_type": "execute_result",
          "data": {
            "text/plain": [
              "Loan_ID               0\n",
              "Gender               13\n",
              "Married               3\n",
              "Dependents           15\n",
              "Education             0\n",
              "Self_Employed        32\n",
              "ApplicantIncome       0\n",
              "CoapplicantIncome     0\n",
              "LoanAmount           22\n",
              "Loan_Amount_Term     14\n",
              "Credit_History       50\n",
              "Property_Area         0\n",
              "Loan_Status           0\n",
              "dtype: int64"
            ]
          },
          "metadata": {},
          "execution_count": 76
        }
      ]
    },
    {
      "cell_type": "code",
      "source": [
        "# visualization of missing values\n",
        "\n",
        "plt.figure(figsize=[25,6])\n",
        "sns.heatmap(data.isna(), cbar= False,  cmap='Greens');"
      ],
      "metadata": {
        "colab": {
          "base_uri": "https://localhost:8080/",
          "height": 385
        },
        "id": "YV3lj4eFJz_T",
        "outputId": "a7a80cfb-0091-4071-d799-371c9fb7947f"
      },
      "execution_count": null,
      "outputs": [
        {
          "output_type": "display_data",
          "data": {
            "text/plain": [
              "<Figure size 2500x600 with 1 Axes>"
            ],
            "image/png": "[encoded data removed]"
          },
          "metadata": {}
        }
      ]
    },
    {
      "cell_type": "code",
      "source": [
        "from sklearn.impute import SimpleImputer\n",
        "from sklearn.compose import ColumnTransformer\n",
        "\n",
        "\n",
        "obj_lst = []    # object list\n",
        "num_lst = []    # numerical list\n",
        "\n",
        "for column, content in data.items():\n",
        "    if pd.api.types.is_object_dtype(content):\n",
        "            obj_lst.append(column)\n",
        "    elif pd.api.types.is_numeric_dtype(content):\n",
        "            num_lst.append(column)\n",
        "\n",
        "\n",
        "object_imputer = SimpleImputer(missing_values=np.nan, strategy = 'constant', fill_value='missing')\n",
        "int_imputer = SimpleImputer(missing_values=np.nan, strategy = 'median')\n",
        "\n",
        "imputer = ColumnTransformer([('object_lst', object_imputer, obj_lst),\n",
        "                                ('int_lst', int_imputer, num_lst)])"
      ],
      "metadata": {
        "id": "P5fw0f-3J4lO"
      },
      "execution_count": null,
      "outputs": []
    },
    {
      "cell_type": "code",
      "source": [
        "df = imputer.fit_transform(data)\n",
        "df = pd.DataFrame(df, columns= ['Loan_ID', 'Gender', 'Married', 'Dependents', 'Education',\n",
        "                                        'Self_Employed', 'Property_Area', 'Target_Loan_Status','ApplicantIncome',\n",
        "                                        'CoapplicantIncome', 'LoanAmount','Loan_Amount_Term', 'Credit_History'])"
      ],
      "metadata": {
        "id": "1WH-dvmxKBRq"
      },
      "execution_count": null,
      "outputs": []
    },
    {
      "cell_type": "code",
      "source": [
        "df.isna().sum()\n"
      ],
      "metadata": {
        "colab": {
          "base_uri": "https://localhost:8080/"
        },
        "id": "CYpiu0JaKFob",
        "outputId": "aede2b45-6eff-4d5a-b230-993f8a947961"
      },
      "execution_count": null,
      "outputs": [
        {
          "output_type": "execute_result",
          "data": {
            "text/plain": [
              "Loan_ID               0\n",
              "Gender                0\n",
              "Married               0\n",
              "Dependents            0\n",
              "Education             0\n",
              "Self_Employed         0\n",
              "Property_Area         0\n",
              "Target_Loan_Status    0\n",
              "ApplicantIncome       0\n",
              "CoapplicantIncome     0\n",
              "LoanAmount            0\n",
              "Loan_Amount_Term      0\n",
              "Credit_History        0\n",
              "dtype: int64"
            ]
          },
          "metadata": {},
          "execution_count": 80
        }
      ]
    },
    {
      "cell_type": "code",
      "source": [
        "# return the numerical values to those who had it before the imputation\n",
        "\n",
        "for element in num_lst:\n",
        "    df[element] = pd.to_numeric(df[element])"
      ],
      "metadata": {
        "id": "Pk70lWHbKHDT"
      },
      "execution_count": null,
      "outputs": []
    },
    {
      "cell_type": "code",
      "source": [
        "from imblearn.over_sampling import RandomOverSampler\n",
        "\n",
        "x = df.drop('Target_Loan_Status', axis = 1)\n",
        "y = df.Target_Loan_Status"
      ],
      "metadata": {
        "id": "L4zZTy0BKKOM"
      },
      "execution_count": null,
      "outputs": []
    },
    {
      "cell_type": "code",
      "source": [
        "ross = RandomOverSampler()\n",
        "x_resample, y_resample = ross.fit_resample(x, y)"
      ],
      "metadata": {
        "id": "IjrwLto0KONu"
      },
      "execution_count": null,
      "outputs": []
    },
    {
      "cell_type": "code",
      "source": [
        "x_resample.shape"
      ],
      "metadata": {
        "colab": {
          "base_uri": "https://localhost:8080/"
        },
        "id": "89hLlpSqKRUP",
        "outputId": "a3d2a94e-7a04-44e3-a9a7-33520e1baa04"
      },
      "execution_count": null,
      "outputs": [
        {
          "output_type": "execute_result",
          "data": {
            "text/plain": [
              "(844, 12)"
            ]
          },
          "metadata": {},
          "execution_count": 84
        }
      ]
    },
    {
      "cell_type": "code",
      "source": [
        "y_resample.value_counts()"
      ],
      "metadata": {
        "colab": {
          "base_uri": "https://localhost:8080/"
        },
        "id": "gBt7Vg-DKgYU",
        "outputId": "fc06420e-4311-47f6-b073-224c08a7183a"
      },
      "execution_count": null,
      "outputs": [
        {
          "output_type": "execute_result",
          "data": {
            "text/plain": [
              "Y    422\n",
              "N    422\n",
              "Name: Target_Loan_Status, dtype: int64"
            ]
          },
          "metadata": {},
          "execution_count": 85
        }
      ]
    },
    {
      "cell_type": "code",
      "source": [
        "x_resample.duplicated().count()"
      ],
      "metadata": {
        "colab": {
          "base_uri": "https://localhost:8080/"
        },
        "id": "FzGUdWRNKjbm",
        "outputId": "c9c45d37-768b-4762-de7d-633f9abdae25"
      },
      "execution_count": null,
      "outputs": [
        {
          "output_type": "execute_result",
          "data": {
            "text/plain": [
              "844"
            ]
          },
          "metadata": {},
          "execution_count": 86
        }
      ]
    },
    {
      "cell_type": "code",
      "source": [
        "#Encoding\n",
        "#Features_columns\n",
        "x_resample.info()"
      ],
      "metadata": {
        "colab": {
          "base_uri": "https://localhost:8080/"
        },
        "id": "xcVLY-OnKqyt",
        "outputId": "b127e728-7c48-4beb-c7d7-57acb6cb2804"
      },
      "execution_count": null,
      "outputs": [
        {
          "output_type": "stream",
          "name": "stdout",
          "text": [
            "<class 'pandas.core.frame.DataFrame'>\n",
            "RangeIndex: 844 entries, 0 to 843\n",
            "Data columns (total 12 columns):\n",
            " #   Column             Non-Null Count  Dtype  \n",
            "---  ------             --------------  -----  \n",
            " 0   Loan_ID            844 non-null    object \n",
            " 1   Gender             844 non-null    object \n",
            " 2   Married            844 non-null    object \n",
            " 3   Dependents         844 non-null    object \n",
            " 4   Education          844 non-null    object \n",
            " 5   Self_Employed      844 non-null    object \n",
            " 6   Property_Area      844 non-null    object \n",
            " 7   ApplicantIncome    844 non-null    float64\n",
            " 8   CoapplicantIncome  844 non-null    float64\n",
            " 9   LoanAmount         844 non-null    float64\n",
            " 10  Loan_Amount_Term   844 non-null    float64\n",
            " 11  Credit_History     844 non-null    float64\n",
            "dtypes: float64(5), object(7)\n",
            "memory usage: 79.2+ KB\n"
          ]
        }
      ]
    },
    {
      "cell_type": "code",
      "source": [
        "def encodage(dataframe):\n",
        "    '''\n",
        "    transforms object types into categorical and then into numeric\n",
        "    '''\n",
        "    for column, content in dataframe.items():\n",
        "        if pd.api.types.is_object_dtype(content):\n",
        "            dataframe[column] = content.astype('category').cat.as_ordered()\n",
        "\n",
        "    for column, content in dataframe.items():          # category -> integer (+1)\n",
        "        if pd.api.types.is_categorical_dtype(content):\n",
        "                dataframe[column] =  pd.Categorical(content).codes + 1"
      ],
      "metadata": {
        "id": "tNKVXXmHK6jJ"
      },
      "execution_count": null,
      "outputs": []
    },
    {
      "cell_type": "code",
      "source": [
        "encodage(x_resample)"
      ],
      "metadata": {
        "id": "ZT_GboNvLARb"
      },
      "execution_count": null,
      "outputs": []
    },
    {
      "cell_type": "code",
      "source": [
        "#Label Encoder for the Target column\n",
        "from sklearn.preprocessing import LabelEncoder\n",
        "\n",
        "label_encoder = LabelEncoder()\n",
        "y_resample = label_encoder.fit_transform(y_resample)"
      ],
      "metadata": {
        "id": "m3CF7BH8LIhs"
      },
      "execution_count": null,
      "outputs": []
    },
    {
      "cell_type": "code",
      "source": [
        "y_resample[:15]"
      ],
      "metadata": {
        "colab": {
          "base_uri": "https://localhost:8080/"
        },
        "id": "QevG5y0eLS0c",
        "outputId": "3c367eda-79a2-4f7c-cbc6-32a121e67871"
      },
      "execution_count": null,
      "outputs": [
        {
          "output_type": "execute_result",
          "data": {
            "text/plain": [
              "array([1, 0, 1, 1, 1, 1, 1, 0, 1, 0, 1, 1, 1, 0, 1])"
            ]
          },
          "metadata": {},
          "execution_count": 91
        }
      ]
    },
    {
      "cell_type": "code",
      "source": [
        "X = x_resample\n",
        "Y = pd.DataFrame(y_resample, columns=['Target'])"
      ],
      "metadata": {
        "id": "45EXGXo_LXj7"
      },
      "execution_count": null,
      "outputs": []
    },
    {
      "cell_type": "markdown",
      "source": [
        "Modelling\n",
        "About metrics\n",
        "Accuracy - The accuracy of the model in decimal form. Perfect accuracy is equal to 1.0.\n",
        "Precision - Indicates the proportion of positive identifications (model predicted class 1) which were actually correct. A model which produces no false positives has a precision of 1.0.\n",
        "Recall - Indicates the proportion of actual positives which were correctly classified. A model which produces no false negatives has a recall of 1.0.\n",
        "F1 score - A combination of precision and recall. A perfect model achieves an F1 score of 1.0."
      ],
      "metadata": {
        "id": "Sha2KfyyLi-6"
      }
    },
    {
      "cell_type": "code",
      "source": [
        "from sklearn.model_selection import train_test_split\n",
        "from sklearn.ensemble import RandomForestClassifier, AdaBoostClassifier\n",
        "from sklearn.tree import DecisionTreeClassifier\n",
        "from sklearn.linear_model import LinearRegression\n",
        "from sklearn.neighbors import KNeighborsClassifier\n",
        "from sklearn.svm import SVC\n",
        "from sklearn.metrics import recall_score, f1_score, accuracy_score, precision_score, classification_report, confusion_matrix\n",
        "from sklearn.model_selection import RandomizedSearchCV, GridSearchCV\n",
        "\n",
        "np.random.seed(0)\n",
        "\n",
        "x_train, x_test,y_train, y_test = train_test_split(X, Y, test_size=0.2, random_state=0)"
      ],
      "metadata": {
        "id": "njn1u4f2Lc34"
      },
      "execution_count": null,
      "outputs": []
    },
    {
      "cell_type": "code",
      "source": [
        "def one_model(model_to_use, metrics = False, classif = False, conf_matrix = False, model = False):\n",
        "\n",
        "    '''\n",
        "    here is a function that is able to return several differents metrics\n",
        "    '''\n",
        "\n",
        "    np.random.seed(0)\n",
        "\n",
        "    global x_train, x_test,y_train, y_test\n",
        "\n",
        "    model = model_to_use\n",
        "    model.fit(x_train, y_train)\n",
        "    y_pred = model.predict(x_test)\n",
        "\n",
        "    if metrics:\n",
        "\n",
        "        print(f'For the model : {model_to_use} :')\n",
        "        print(f'The recall_score is : {recall_score(y_test, y_pred)}')\n",
        "        print(f'The f1_score is : {f1_score(y_test, y_pred)}')\n",
        "        print(f'The precision_score is : {precision_score(y_test, y_pred)}')\n",
        "        print(f'The accuracy_score is : {accuracy_score(y_test, y_pred)}\\n')\n",
        "\n",
        "    elif classif :\n",
        "        print(classification_report(y_test, y_pred))\n",
        "\n",
        "    elif conf_matrix:\n",
        "        # print(confusion_matrix(y_test, y_pred))\n",
        "        plt.figure(figsize=[10,6])\n",
        "        sns.heatmap(confusion_matrix(y_test, y_pred), annot = True, fmt = 'g', linewidths=1, cbar = False)\n",
        "        plt.title('Confusion Matrix', size = 18);\n",
        "\n",
        "    elif model :\n",
        "        return model"
      ],
      "metadata": {
        "id": "SY88wSBrLrX_"
      },
      "execution_count": null,
      "outputs": []
    },
    {
      "cell_type": "code",
      "source": [
        "lst_model = [DecisionTreeClassifier(), RandomForestClassifier(), KNeighborsClassifier(), SVC(), AdaBoostClassifier()]"
      ],
      "metadata": {
        "id": "18f1a23_L-oR"
      },
      "execution_count": null,
      "outputs": []
    },
    {
      "cell_type": "code",
      "source": [
        "for element in lst_model:\n",
        "    one_model(element, metrics = True)"
      ],
      "metadata": {
        "colab": {
          "base_uri": "https://localhost:8080/"
        },
        "id": "lW2EIXYDMElZ",
        "outputId": "594a0dd2-ced1-419d-c51f-d081493a6ef8"
      },
      "execution_count": null,
      "outputs": [
        {
          "output_type": "stream",
          "name": "stdout",
          "text": [
            "For the model : DecisionTreeClassifier() :\n",
            "The recall_score is : 0.8072289156626506\n",
            "The f1_score is : 0.864516129032258\n",
            "The precision_score is : 0.9305555555555556\n",
            "The accuracy_score is : 0.8757396449704142\n",
            "\n",
            "For the model : RandomForestClassifier() :\n",
            "The recall_score is : 0.9397590361445783\n",
            "The f1_score is : 0.9176470588235294\n",
            "The precision_score is : 0.896551724137931\n",
            "The accuracy_score is : 0.9171597633136095\n",
            "\n",
            "For the model : KNeighborsClassifier() :\n",
            "The recall_score is : 0.6385542168674698\n",
            "The f1_score is : 0.6309523809523809\n",
            "The precision_score is : 0.6235294117647059\n",
            "The accuracy_score is : 0.6331360946745562\n",
            "\n",
            "For the model : SVC() :\n",
            "The recall_score is : 0.6265060240963856\n",
            "The f1_score is : 0.5683060109289617\n",
            "The precision_score is : 0.52\n",
            "The accuracy_score is : 0.5325443786982249\n",
            "\n",
            "For the model : AdaBoostClassifier() :\n",
            "The recall_score is : 0.8433734939759037\n",
            "The f1_score is : 0.7486631016042781\n",
            "The precision_score is : 0.6730769230769231\n",
            "The accuracy_score is : 0.7218934911242604\n",
            "\n"
          ]
        }
      ]
    },
    {
      "cell_type": "markdown",
      "source": [
        "We can see that the RandomForestRegressor model is the one that gets better results.\n",
        "\n",
        "Features Importances\n",
        "Feature importance refers to techniques that calculate a score for all input features for a given model - the scores simply represent the \"importance\" of each feature. A higher score means that the specific characteristic will have a greater effect on the model used to predict a certain variable."
      ],
      "metadata": {
        "id": "GXV705-pMN1-"
      }
    },
    {
      "cell_type": "code",
      "source": [
        "one_model(RandomForestClassifier(), model = True).feature_importances_"
      ],
      "metadata": {
        "colab": {
          "base_uri": "https://localhost:8080/"
        },
        "id": "SddY9no_MJke",
        "outputId": "acee72a5-1b4f-44e2-900d-873878ffc5f7"
      },
      "execution_count": null,
      "outputs": [
        {
          "output_type": "execute_result",
          "data": {
            "text/plain": [
              "array([0.15939394, 0.02062172, 0.02341235, 0.04741835, 0.02104543,\n",
              "       0.0274038 , 0.04933634, 0.16128173, 0.09384257, 0.15634199,\n",
              "       0.03785157, 0.20205021])"
            ]
          },
          "metadata": {},
          "execution_count": 97
        }
      ]
    },
    {
      "cell_type": "code",
      "source": [
        "features_imp = pd.DataFrame(one_model(RandomForestClassifier(), model = True).feature_importances_, index = X.columns)\n",
        "features_imp = features_imp.rename(columns = {0 : 'features_importances'})\n",
        "features_imp"
      ],
      "metadata": {
        "colab": {
          "base_uri": "https://localhost:8080/",
          "height": 426
        },
        "id": "HsKaYKugMU7D",
        "outputId": "e6a43301-dd3b-4575-f6f9-d05edb90d9b1"
      },
      "execution_count": null,
      "outputs": [
        {
          "output_type": "execute_result",
          "data": {
            "text/plain": [
              "                   features_importances\n",
              "Loan_ID                        0.159394\n",
              "Gender                         0.020622\n",
              "Married                        0.023412\n",
              "Dependents                     0.047418\n",
              "Education                      0.021045\n",
              "Self_Employed                  0.027404\n",
              "Property_Area                  0.049336\n",
              "ApplicantIncome                0.161282\n",
              "CoapplicantIncome              0.093843\n",
              "LoanAmount                     0.156342\n",
              "Loan_Amount_Term               0.037852\n",
              "Credit_History                 0.202050"
            ],
            "text/html": [
              "\n",
              "  <div id=\"df-766ee43d-0d50-40c5-8851-2b8bf927733b\">\n",
              "    <div class=\"colab-df-container\">\n",
              "      <div>\n",
              "<style scoped>\n",
              "    .dataframe tbody tr th:only-of-type {\n",
              "        vertical-align: middle;\n",
              "    }\n",
              "\n",
              "    .dataframe tbody tr th {\n",
              "        vertical-align: top;\n",
              "    }\n",
              "\n",
              "    .dataframe thead th {\n",
              "        text-align: right;\n",
              "    }\n",
              "</style>\n",
              "<table border=\"1\" class=\"dataframe\">\n",
              "  <thead>\n",
              "    <tr style=\"text-align: right;\">\n",
              "      <th></th>\n",
              "      <th>features_importances</th>\n",
              "    </tr>\n",
              "  </thead>\n",
              "  <tbody>\n",
              "    <tr>\n",
              "      <th>Loan_ID</th>\n",
              "      <td>0.159394</td>\n",
              "    </tr>\n",
              "    <tr>\n",
              "      <th>Gender</th>\n",
              "      <td>0.020622</td>\n",
              "    </tr>\n",
              "    <tr>\n",
              "      <th>Married</th>\n",
              "      <td>0.023412</td>\n",
              "    </tr>\n",
              "    <tr>\n",
              "      <th>Dependents</th>\n",
              "      <td>0.047418</td>\n",
              "    </tr>\n",
              "    <tr>\n",
              "      <th>Education</th>\n",
              "      <td>0.021045</td>\n",
              "    </tr>\n",
              "    <tr>\n",
              "      <th>Self_Employed</th>\n",
              "      <td>0.027404</td>\n",
              "    </tr>\n",
              "    <tr>\n",
              "      <th>Property_Area</th>\n",
              "      <td>0.049336</td>\n",
              "    </tr>\n",
              "    <tr>\n",
              "      <th>ApplicantIncome</th>\n",
              "      <td>0.161282</td>\n",
              "    </tr>\n",
              "    <tr>\n",
              "      <th>CoapplicantIncome</th>\n",
              "      <td>0.093843</td>\n",
              "    </tr>\n",
              "    <tr>\n",
              "      <th>LoanAmount</th>\n",
              "      <td>0.156342</td>\n",
              "    </tr>\n",
              "    <tr>\n",
              "      <th>Loan_Amount_Term</th>\n",
              "      <td>0.037852</td>\n",
              "    </tr>\n",
              "    <tr>\n",
              "      <th>Credit_History</th>\n",
              "      <td>0.202050</td>\n",
              "    </tr>\n",
              "  </tbody>\n",
              "</table>\n",
              "</div>\n",
              "      <button class=\"colab-df-convert\" onclick=\"convertToInteractive('df-766ee43d-0d50-40c5-8851-2b8bf927733b')\"\n",
              "              title=\"Convert this dataframe to an interactive table.\"\n",
              "              style=\"display:none;\">\n",
              "        \n",
              "  <svg xmlns=\"http://www.w3.org/2000/svg\" height=\"24px\"viewBox=\"0 0 24 24\"\n",
              "       width=\"24px\">\n",
              "    <path d=\"M0 0h24v24H0V0z\" fill=\"none\"/>\n",
              "    <path d=\"M18.56 5.44l.94 2.06.94-2.06 2.06-.94-2.06-.94-.94-2.06-.94 2.06-2.06.94zm-11 1L8.5 8.5l.94-2.06 2.06-.94-2.06-.94L8.5 2.5l-.94 2.06-2.06.94zm10 10l.94 2.06.94-2.06 2.06-.94-2.06-.94-.94-2.06-.94 2.06-2.06.94z\"/><path d=\"M17.41 7.96l-1.37-1.37c-.4-.4-.92-.59-1.43-.59-.52 0-1.04.2-1.43.59L10.3 9.45l-7.72 7.72c-.78.78-.78 2.05 0 2.83L4 21.41c.39.39.9.59 1.41.59.51 0 1.02-.2 1.41-.59l7.78-7.78 2.81-2.81c.8-.78.8-2.07 0-2.86zM5.41 20L4 18.59l7.72-7.72 1.47 1.35L5.41 20z\"/>\n",
              "  </svg>\n",
              "      </button>\n",
              "      \n",
              "  <style>\n",
              "    .colab-df-container {\n",
              "      display:flex;\n",
              "      flex-wrap:wrap;\n",
              "      gap: 12px;\n",
              "    }\n",
              "\n",
              "    .colab-df-convert {\n",
              "      background-color: #E8F0FE;\n",
              "      border: none;\n",
              "      border-radius: 50%;\n",
              "      cursor: pointer;\n",
              "      display: none;\n",
              "      fill: #1967D2;\n",
              "      height: 32px;\n",
              "      padding: 0 0 0 0;\n",
              "      width: 32px;\n",
              "    }\n",
              "\n",
              "    .colab-df-convert:hover {\n",
              "      background-color: #E2EBFA;\n",
              "      box-shadow: 0px 1px 2px rgba(60, 64, 67, 0.3), 0px 1px 3px 1px rgba(60, 64, 67, 0.15);\n",
              "      fill: #174EA6;\n",
              "    }\n",
              "\n",
              "    [theme=dark] .colab-df-convert {\n",
              "      background-color: #3B4455;\n",
              "      fill: #D2E3FC;\n",
              "    }\n",
              "\n",
              "    [theme=dark] .colab-df-convert:hover {\n",
              "      background-color: #434B5C;\n",
              "      box-shadow: 0px 1px 3px 1px rgba(0, 0, 0, 0.15);\n",
              "      filter: drop-shadow(0px 1px 2px rgba(0, 0, 0, 0.3));\n",
              "      fill: #FFFFFF;\n",
              "    }\n",
              "  </style>\n",
              "\n",
              "      <script>\n",
              "        const buttonEl =\n",
              "          document.querySelector('#df-766ee43d-0d50-40c5-8851-2b8bf927733b button.colab-df-convert');\n",
              "        buttonEl.style.display =\n",
              "          google.colab.kernel.accessAllowed ? 'block' : 'none';\n",
              "\n",
              "        async function convertToInteractive(key) {\n",
              "          const element = document.querySelector('#df-766ee43d-0d50-40c5-8851-2b8bf927733b');\n",
              "          const dataTable =\n",
              "            await google.colab.kernel.invokeFunction('convertToInteractive',\n",
              "                                                     [key], {});\n",
              "          if (!dataTable) return;\n",
              "\n",
              "          const docLinkHtml = 'Like what you see? Visit the ' +\n",
              "            '<a target=\"_blank\" href=https://colab.research.google.com/notebooks/data_table.ipynb>data table notebook</a>'\n",
              "            + ' to learn more about interactive tables.';\n",
              "          element.innerHTML = '';\n",
              "          dataTable['output_type'] = 'display_data';\n",
              "          await google.colab.output.renderOutput(dataTable, element);\n",
              "          const docLink = document.createElement('div');\n",
              "          docLink.innerHTML = docLinkHtml;\n",
              "          element.appendChild(docLink);\n",
              "        }\n",
              "      </script>\n",
              "    </div>\n",
              "  </div>\n",
              "  "
            ]
          },
          "metadata": {},
          "execution_count": 98
        }
      ]
    },
    {
      "cell_type": "code",
      "source": [
        "plt.figure(figsize= [25,6])\n",
        "plt.grid()\n",
        "plt.bar(x = X.columns, height=features_imp.features_importances, color = 'teal');"
      ],
      "metadata": {
        "colab": {
          "base_uri": "https://localhost:8080/",
          "height": 378
        },
        "id": "D1qRSEr_Ma8v",
        "outputId": "99fe7c95-e350-4c6a-a606-0b3f42acdd78"
      },
      "execution_count": null,
      "outputs": [
        {
          "output_type": "display_data",
          "data": {
            "text/plain": [
              "<Figure size 2500x600 with 1 Axes>"
            ],
            "image/png": "[encoded data removed]"
          },
          "metadata": {}
        }
      ]
    },
    {
      "cell_type": "markdown",
      "source": [
        "We can see the features that our RandomForest model uses the most to predict the Target\n",
        "\n",
        "Features selection\n",
        "We will now try to optimize our model by removing the variables that do not vary (or the least) with the target"
      ],
      "metadata": {
        "id": "2FUmHHo7MnNf"
      }
    },
    {
      "cell_type": "code",
      "source": [
        "from sklearn.feature_selection import SelectKBest, f_classif\n",
        "from sklearn.preprocessing import StandardScaler\n",
        "from sklearn.pipeline import make_pipeline\n",
        "\n",
        "def select_kbest():\n",
        "\n",
        "    np.random.seed(0)\n",
        "    for i in range(8,13):\n",
        "        model_opt = make_pipeline(SelectKBest(f_classif, k = i),\n",
        "                                  RandomForestClassifier())\n",
        "        print(one_model(model_opt, metrics=True))"
      ],
      "metadata": {
        "id": "yE_3cUREMiDn"
      },
      "execution_count": null,
      "outputs": []
    },
    {
      "cell_type": "code",
      "source": [
        "select_kbest();"
      ],
      "metadata": {
        "colab": {
          "base_uri": "https://localhost:8080/"
        },
        "id": "f9gQ1Z3AMu9i",
        "outputId": "cabad6e4-5005-458e-c1ce-ff8fd243e970"
      },
      "execution_count": null,
      "outputs": [
        {
          "output_type": "stream",
          "name": "stdout",
          "text": [
            "For the model : Pipeline(steps=[('selectkbest', SelectKBest(k=8)),\n",
            "                ('randomforestclassifier', RandomForestClassifier())]) :\n",
            "The recall_score is : 0.8433734939759037\n",
            "The f1_score is : 0.8805031446540881\n",
            "The precision_score is : 0.9210526315789473\n",
            "The accuracy_score is : 0.8875739644970414\n",
            "\n",
            "None\n",
            "For the model : Pipeline(steps=[('selectkbest', SelectKBest(k=9)),\n",
            "                ('randomforestclassifier', RandomForestClassifier())]) :\n",
            "The recall_score is : 0.8674698795180723\n",
            "The f1_score is : 0.8888888888888888\n",
            "The precision_score is : 0.9113924050632911\n",
            "The accuracy_score is : 0.893491124260355\n",
            "\n",
            "None\n",
            "For the model : Pipeline(steps=[('selectkbest', SelectKBest()),\n",
            "                ('randomforestclassifier', RandomForestClassifier())]) :\n",
            "The recall_score is : 0.8554216867469879\n",
            "The f1_score is : 0.8765432098765433\n",
            "The precision_score is : 0.8987341772151899\n",
            "The accuracy_score is : 0.8816568047337278\n",
            "\n",
            "None\n",
            "For the model : Pipeline(steps=[('selectkbest', SelectKBest(k=11)),\n",
            "                ('randomforestclassifier', RandomForestClassifier())]) :\n",
            "The recall_score is : 0.9156626506024096\n",
            "The f1_score is : 0.9101796407185628\n",
            "The precision_score is : 0.9047619047619048\n",
            "The accuracy_score is : 0.9112426035502958\n",
            "\n",
            "None\n",
            "For the model : Pipeline(steps=[('selectkbest', SelectKBest(k=12)),\n",
            "                ('randomforestclassifier', RandomForestClassifier())]) :\n",
            "The recall_score is : 0.9397590361445783\n",
            "The f1_score is : 0.9176470588235294\n",
            "The precision_score is : 0.896551724137931\n",
            "The accuracy_score is : 0.9171597633136095\n",
            "\n",
            "None\n"
          ]
        }
      ]
    },
    {
      "cell_type": "code",
      "source": [
        "one_model(RandomForestClassifier(), conf_matrix=True), one_model(RandomForestClassifier(), classif=True);"
      ],
      "metadata": {
        "colab": {
          "base_uri": "https://localhost:8080/",
          "height": 701
        },
        "id": "VXdD1cEmMxoN",
        "outputId": "b2bf9182-a591-459a-a5d5-b8c460a1b967"
      },
      "execution_count": null,
      "outputs": [
        {
          "output_type": "stream",
          "name": "stdout",
          "text": [
            "              precision    recall  f1-score   support\n",
            "\n",
            "           0       0.94      0.90      0.92        86\n",
            "           1       0.90      0.94      0.92        83\n",
            "\n",
            "    accuracy                           0.92       169\n",
            "   macro avg       0.92      0.92      0.92       169\n",
            "weighted avg       0.92      0.92      0.92       169\n",
            "\n"
          ]
        },
        {
          "output_type": "display_data",
          "data": {
            "text/plain": [
              "<Figure size 1000x600 with 1 Axes>"
            ],
            "image/png": "[encoded data removed]"
          },
          "metadata": {}
        }
      ]
    },
    {
      "cell_type": "markdown",
      "source": [
        "We can see from this matrix that out of 86 people who have had their mortgage accepted, the model has succeeded in predicting 76 (88.37% good answers).\n",
        "\n",
        "We can also see this on the negatives, where the model predicted 78 correct answers out of 83 (93% good answers)."
      ],
      "metadata": {
        "id": "gWxX_ET0M_TT"
      }
    },
    {
      "cell_type": "code",
      "source": [
        "#Oprimization By RandomizedSearchCV\n",
        "\n",
        "from sklearn.model_selection import RandomizedSearchCV\n",
        "\n",
        "model_grid = RandomForestClassifier()\n",
        "model_grid.fit(x_train, y_train)\n",
        "print(f'The Accuracy Score is : {round(model_grid.score(x_test, y_test),2)*100} %')"
      ],
      "metadata": {
        "colab": {
          "base_uri": "https://localhost:8080/"
        },
        "id": "StLJ9XiFM77x",
        "outputId": "ea1783fa-0564-4b97-fa04-ff3b4771fde4"
      },
      "execution_count": null,
      "outputs": [
        {
          "output_type": "stream",
          "name": "stdout",
          "text": [
            "The Accuracy Score is : 92.0 %\n"
          ]
        }
      ]
    },
    {
      "cell_type": "code",
      "source": [
        "%time\n",
        "\n",
        "np.random.seed(0)\n",
        "\n",
        "search_params = {'n_estimators' : [50,100,150,200,250, 300],\n",
        "                  'criterion' : ['gini', 'entropy', 'log_loss'],\n",
        "                  'max_features' : ['sqrt', 'log2', None],\n",
        "                  'n_jobs' : [-1,1,None],\n",
        "                  'random_state': [2,4,6,8,10]}\n",
        "\n",
        "search = RandomizedSearchCV(model_grid, param_distributions= search_params, n_iter = 10, cv = 5)\n",
        "search.fit(x_train, y_train)\n",
        "print(f'The best estimator is : {search.best_estimator_}')\n",
        "print(f'The best score is : {search.best_score_}')\n",
        "print(f'The best parameters are : {search.best_params_}')"
      ],
      "metadata": {
        "colab": {
          "base_uri": "https://localhost:8080/"
        },
        "id": "2thbAGmNNURY",
        "outputId": "55e105f2-7716-45a5-b875-955762e4dc26"
      },
      "execution_count": null,
      "outputs": [
        {
          "output_type": "stream",
          "name": "stdout",
          "text": [
            "CPU times: user 5 µs, sys: 0 ns, total: 5 µs\n",
            "Wall time: 10.7 µs\n",
            "The best estimator is : RandomForestClassifier(criterion='log_loss', n_estimators=250, random_state=8)\n",
            "The best score is : 0.8844444444444445\n",
            "The best parameters are : {'random_state': 8, 'n_jobs': None, 'n_estimators': 250, 'max_features': 'sqrt', 'criterion': 'log_loss'}\n"
          ]
        }
      ]
    },
    {
      "cell_type": "code",
      "source": [
        "one_model(RandomForestClassifier(random_state = 2, n_jobs = None, n_estimators =  200, max_features = 'sqrt', criterion =  'gini'),\n",
        "         metrics = True, conf_matrix = True)"
      ],
      "metadata": {
        "colab": {
          "base_uri": "https://localhost:8080/"
        },
        "id": "FDrdFD-7NXJf",
        "outputId": "e01c9891-d2f9-45a4-ad6b-2c700cb51de3"
      },
      "execution_count": null,
      "outputs": [
        {
          "output_type": "stream",
          "name": "stdout",
          "text": [
            "For the model : RandomForestClassifier(n_estimators=200, random_state=2) :\n",
            "The recall_score is : 0.9397590361445783\n",
            "The f1_score is : 0.9176470588235294\n",
            "The precision_score is : 0.896551724137931\n",
            "The accuracy_score is : 0.9171597633136095\n",
            "\n"
          ]
        }
      ]
    },
    {
      "cell_type": "code",
      "source": [
        "#Prediction\n",
        "test_set = pd.read_csv('/content/loan_sanction_test.csv')\n",
        "test_set2 = test_set.copy()\n",
        "test_set.head()"
      ],
      "metadata": {
        "colab": {
          "base_uri": "https://localhost:8080/",
          "height": 206
        },
        "id": "iv27QOlQNiy_",
        "outputId": "ad8ea0cb-de52-4f83-bac0-758ce91d1369"
      },
      "execution_count": null,
      "outputs": [
        {
          "output_type": "execute_result",
          "data": {
            "text/plain": [
              "    Loan_ID Gender Married Dependents     Education Self_Employed  \\\n",
              "0  LP001015   Male     Yes          0      Graduate            No   \n",
              "1  LP001022   Male     Yes          1      Graduate            No   \n",
              "2  LP001031   Male     Yes          2      Graduate            No   \n",
              "3  LP001035   Male     Yes          2      Graduate            No   \n",
              "4  LP001051   Male      No          0  Not Graduate            No   \n",
              "\n",
              "   ApplicantIncome  CoapplicantIncome  LoanAmount  Loan_Amount_Term  \\\n",
              "0             5720                  0       110.0             360.0   \n",
              "1             3076               1500       126.0             360.0   \n",
              "2             5000               1800       208.0             360.0   \n",
              "3             2340               2546       100.0             360.0   \n",
              "4             3276                  0        78.0             360.0   \n",
              "\n",
              "   Credit_History Property_Area  \n",
              "0             1.0         Urban  \n",
              "1             1.0         Urban  \n",
              "2             1.0         Urban  \n",
              "3             NaN         Urban  \n",
              "4             1.0         Urban  "
            ],
            "text/html": [
              "\n",
              "  <div id=\"df-9b645ee4-2fd2-47db-b5cb-478151f40b9e\">\n",
              "    <div class=\"colab-df-container\">\n",
              "      <div>\n",
              "<style scoped>\n",
              "    .dataframe tbody tr th:only-of-type {\n",
              "        vertical-align: middle;\n",
              "    }\n",
              "\n",
              "    .dataframe tbody tr th {\n",
              "        vertical-align: top;\n",
              "    }\n",
              "\n",
              "    .dataframe thead th {\n",
              "        text-align: right;\n",
              "    }\n",
              "</style>\n",
              "<table border=\"1\" class=\"dataframe\">\n",
              "  <thead>\n",
              "    <tr style=\"text-align: right;\">\n",
              "      <th></th>\n",
              "      <th>Loan_ID</th>\n",
              "      <th>Gender</th>\n",
              "      <th>Married</th>\n",
              "      <th>Dependents</th>\n",
              "      <th>Education</th>\n",
              "      <th>Self_Employed</th>\n",
              "      <th>ApplicantIncome</th>\n",
              "      <th>CoapplicantIncome</th>\n",
              "      <th>LoanAmount</th>\n",
              "      <th>Loan_Amount_Term</th>\n",
              "      <th>Credit_History</th>\n",
              "      <th>Property_Area</th>\n",
              "    </tr>\n",
              "  </thead>\n",
              "  <tbody>\n",
              "    <tr>\n",
              "      <th>0</th>\n",
              "      <td>LP001015</td>\n",
              "      <td>Male</td>\n",
              "      <td>Yes</td>\n",
              "      <td>0</td>\n",
              "      <td>Graduate</td>\n",
              "      <td>No</td>\n",
              "      <td>5720</td>\n",
              "      <td>0</td>\n",
              "      <td>110.0</td>\n",
              "      <td>360.0</td>\n",
              "      <td>1.0</td>\n",
              "      <td>Urban</td>\n",
              "    </tr>\n",
              "    <tr>\n",
              "      <th>1</th>\n",
              "      <td>LP001022</td>\n",
              "      <td>Male</td>\n",
              "      <td>Yes</td>\n",
              "      <td>1</td>\n",
              "      <td>Graduate</td>\n",
              "      <td>No</td>\n",
              "      <td>3076</td>\n",
              "      <td>1500</td>\n",
              "      <td>126.0</td>\n",
              "      <td>360.0</td>\n",
              "      <td>1.0</td>\n",
              "      <td>Urban</td>\n",
              "    </tr>\n",
              "    <tr>\n",
              "      <th>2</th>\n",
              "      <td>LP001031</td>\n",
              "      <td>Male</td>\n",
              "      <td>Yes</td>\n",
              "      <td>2</td>\n",
              "      <td>Graduate</td>\n",
              "      <td>No</td>\n",
              "      <td>5000</td>\n",
              "      <td>1800</td>\n",
              "      <td>208.0</td>\n",
              "      <td>360.0</td>\n",
              "      <td>1.0</td>\n",
              "      <td>Urban</td>\n",
              "    </tr>\n",
              "    <tr>\n",
              "      <th>3</th>\n",
              "      <td>LP001035</td>\n",
              "      <td>Male</td>\n",
              "      <td>Yes</td>\n",
              "      <td>2</td>\n",
              "      <td>Graduate</td>\n",
              "      <td>No</td>\n",
              "      <td>2340</td>\n",
              "      <td>2546</td>\n",
              "      <td>100.0</td>\n",
              "      <td>360.0</td>\n",
              "      <td>NaN</td>\n",
              "      <td>Urban</td>\n",
              "    </tr>\n",
              "    <tr>\n",
              "      <th>4</th>\n",
              "      <td>LP001051</td>\n",
              "      <td>Male</td>\n",
              "      <td>No</td>\n",
              "      <td>0</td>\n",
              "      <td>Not Graduate</td>\n",
              "      <td>No</td>\n",
              "      <td>3276</td>\n",
              "      <td>0</td>\n",
              "      <td>78.0</td>\n",
              "      <td>360.0</td>\n",
              "      <td>1.0</td>\n",
              "      <td>Urban</td>\n",
              "    </tr>\n",
              "  </tbody>\n",
              "</table>\n",
              "</div>\n",
              "      <button class=\"colab-df-convert\" onclick=\"convertToInteractive('df-9b645ee4-2fd2-47db-b5cb-478151f40b9e')\"\n",
              "              title=\"Convert this dataframe to an interactive table.\"\n",
              "              style=\"display:none;\">\n",
              "        \n",
              "  <svg xmlns=\"http://www.w3.org/2000/svg\" height=\"24px\"viewBox=\"0 0 24 24\"\n",
              "       width=\"24px\">\n",
              "    <path d=\"M0 0h24v24H0V0z\" fill=\"none\"/>\n",
              "    <path d=\"M18.56 5.44l.94 2.06.94-2.06 2.06-.94-2.06-.94-.94-2.06-.94 2.06-2.06.94zm-11 1L8.5 8.5l.94-2.06 2.06-.94-2.06-.94L8.5 2.5l-.94 2.06-2.06.94zm10 10l.94 2.06.94-2.06 2.06-.94-2.06-.94-.94-2.06-.94 2.06-2.06.94z\"/><path d=\"M17.41 7.96l-1.37-1.37c-.4-.4-.92-.59-1.43-.59-.52 0-1.04.2-1.43.59L10.3 9.45l-7.72 7.72c-.78.78-.78 2.05 0 2.83L4 21.41c.39.39.9.59 1.41.59.51 0 1.02-.2 1.41-.59l7.78-7.78 2.81-2.81c.8-.78.8-2.07 0-2.86zM5.41 20L4 18.59l7.72-7.72 1.47 1.35L5.41 20z\"/>\n",
              "  </svg>\n",
              "      </button>\n",
              "      \n",
              "  <style>\n",
              "    .colab-df-container {\n",
              "      display:flex;\n",
              "      flex-wrap:wrap;\n",
              "      gap: 12px;\n",
              "    }\n",
              "\n",
              "    .colab-df-convert {\n",
              "      background-color: #E8F0FE;\n",
              "      border: none;\n",
              "      border-radius: 50%;\n",
              "      cursor: pointer;\n",
              "      display: none;\n",
              "      fill: #1967D2;\n",
              "      height: 32px;\n",
              "      padding: 0 0 0 0;\n",
              "      width: 32px;\n",
              "    }\n",
              "\n",
              "    .colab-df-convert:hover {\n",
              "      background-color: #E2EBFA;\n",
              "      box-shadow: 0px 1px 2px rgba(60, 64, 67, 0.3), 0px 1px 3px 1px rgba(60, 64, 67, 0.15);\n",
              "      fill: #174EA6;\n",
              "    }\n",
              "\n",
              "    [theme=dark] .colab-df-convert {\n",
              "      background-color: #3B4455;\n",
              "      fill: #D2E3FC;\n",
              "    }\n",
              "\n",
              "    [theme=dark] .colab-df-convert:hover {\n",
              "      background-color: #434B5C;\n",
              "      box-shadow: 0px 1px 3px 1px rgba(0, 0, 0, 0.15);\n",
              "      filter: drop-shadow(0px 1px 2px rgba(0, 0, 0, 0.3));\n",
              "      fill: #FFFFFF;\n",
              "    }\n",
              "  </style>\n",
              "\n",
              "      <script>\n",
              "        const buttonEl =\n",
              "          document.querySelector('#df-9b645ee4-2fd2-47db-b5cb-478151f40b9e button.colab-df-convert');\n",
              "        buttonEl.style.display =\n",
              "          google.colab.kernel.accessAllowed ? 'block' : 'none';\n",
              "\n",
              "        async function convertToInteractive(key) {\n",
              "          const element = document.querySelector('#df-9b645ee4-2fd2-47db-b5cb-478151f40b9e');\n",
              "          const dataTable =\n",
              "            await google.colab.kernel.invokeFunction('convertToInteractive',\n",
              "                                                     [key], {});\n",
              "          if (!dataTable) return;\n",
              "\n",
              "          const docLinkHtml = 'Like what you see? Visit the ' +\n",
              "            '<a target=\"_blank\" href=https://colab.research.google.com/notebooks/data_table.ipynb>data table notebook</a>'\n",
              "            + ' to learn more about interactive tables.';\n",
              "          element.innerHTML = '';\n",
              "          dataTable['output_type'] = 'display_data';\n",
              "          await google.colab.output.renderOutput(dataTable, element);\n",
              "          const docLink = document.createElement('div');\n",
              "          docLink.innerHTML = docLinkHtml;\n",
              "          element.appendChild(docLink);\n",
              "        }\n",
              "      </script>\n",
              "    </div>\n",
              "  </div>\n",
              "  "
            ]
          },
          "metadata": {},
          "execution_count": 106
        }
      ]
    },
    {
      "cell_type": "code",
      "source": [
        "x_train.shape, test_set.shape"
      ],
      "metadata": {
        "colab": {
          "base_uri": "https://localhost:8080/"
        },
        "id": "-2ijP109Nkoy",
        "outputId": "d174466d-3aca-4477-9616-443ffad8b777"
      },
      "execution_count": null,
      "outputs": [
        {
          "output_type": "execute_result",
          "data": {
            "text/plain": [
              "((675, 12), (367, 12))"
            ]
          },
          "metadata": {},
          "execution_count": 107
        }
      ]
    },
    {
      "cell_type": "code",
      "source": [
        "# imputation for test_set\n",
        "\n",
        "obj_lst_test = []    # object list\n",
        "num_lst_test = []    # numerical list\n",
        "\n",
        "for column, content in test_set.items():\n",
        "    if pd.api.types.is_object_dtype(content):\n",
        "        obj_lst_test.append(column)\n",
        "    elif pd.api.types.is_numeric_dtype(content):\n",
        "        num_lst_test.append(column)\n",
        "\n",
        "\n",
        "object_imputer = SimpleImputer(missing_values=np.nan, strategy = 'constant', fill_value='missing')\n",
        "int_imputer = SimpleImputer(missing_values=np.nan, strategy = 'median')\n",
        "\n",
        "\n",
        "imputer_test = ColumnTransformer([('object_lst_test', object_imputer, obj_lst_test),\n",
        "                            ('int_lst_test', int_imputer, num_lst_test)])"
      ],
      "metadata": {
        "id": "m7z3DPUAN2QO"
      },
      "execution_count": null,
      "outputs": []
    },
    {
      "cell_type": "code",
      "source": [
        "df_test = imputer_test.fit_transform(test_set)\n",
        "df_test = pd.DataFrame(df_test, columns= ['Loan_ID', 'Gender', 'Married', 'Dependents', 'Education',\n",
        "                                'Self_Employed', 'Property_Area','ApplicantIncome',\n",
        "                                'CoapplicantIncome', 'LoanAmount','Loan_Amount_Term', 'Credit_History'])"
      ],
      "metadata": {
        "id": "5kqrkv6EN7Gi"
      },
      "execution_count": null,
      "outputs": []
    },
    {
      "cell_type": "code",
      "source": [
        "df_test.isna().sum()"
      ],
      "metadata": {
        "colab": {
          "base_uri": "https://localhost:8080/"
        },
        "id": "aM9RjHhSN-WB",
        "outputId": "41e38832-5908-49bb-b005-9fd3891d7377"
      },
      "execution_count": null,
      "outputs": [
        {
          "output_type": "execute_result",
          "data": {
            "text/plain": [
              "Loan_ID              0\n",
              "Gender               0\n",
              "Married              0\n",
              "Dependents           0\n",
              "Education            0\n",
              "Self_Employed        0\n",
              "Property_Area        0\n",
              "ApplicantIncome      0\n",
              "CoapplicantIncome    0\n",
              "LoanAmount           0\n",
              "Loan_Amount_Term     0\n",
              "Credit_History       0\n",
              "dtype: int64"
            ]
          },
          "metadata": {},
          "execution_count": 110
        }
      ]
    },
    {
      "cell_type": "code",
      "source": [
        "# encoding test_set\n",
        "\n",
        "encodage(df_test)\n",
        "df_test.info()"
      ],
      "metadata": {
        "colab": {
          "base_uri": "https://localhost:8080/"
        },
        "id": "umaTcqgcOFw9",
        "outputId": "408903e1-a0e2-4a47-f123-8c6e043a28b6"
      },
      "execution_count": null,
      "outputs": [
        {
          "output_type": "stream",
          "name": "stdout",
          "text": [
            "<class 'pandas.core.frame.DataFrame'>\n",
            "RangeIndex: 367 entries, 0 to 366\n",
            "Data columns (total 12 columns):\n",
            " #   Column             Non-Null Count  Dtype\n",
            "---  ------             --------------  -----\n",
            " 0   Loan_ID            367 non-null    int16\n",
            " 1   Gender             367 non-null    int8 \n",
            " 2   Married            367 non-null    int8 \n",
            " 3   Dependents         367 non-null    int8 \n",
            " 4   Education          367 non-null    int8 \n",
            " 5   Self_Employed      367 non-null    int8 \n",
            " 6   Property_Area      367 non-null    int8 \n",
            " 7   ApplicantIncome    367 non-null    int16\n",
            " 8   CoapplicantIncome  367 non-null    int16\n",
            " 9   LoanAmount         367 non-null    int16\n",
            " 10  Loan_Amount_Term   367 non-null    int8 \n",
            " 11  Credit_History     367 non-null    int8 \n",
            "dtypes: int16(4), int8(8)\n",
            "memory usage: 5.9 KB\n"
          ]
        }
      ]
    },
    {
      "cell_type": "code",
      "source": [
        "#Prediction on test_set\n",
        "final_model = one_model(RandomForestClassifier(random_state = 4, n_jobs = None, n_estimators =  200, max_features = 'sqrt', criterion =  'gini'),\n",
        "                        model=True)"
      ],
      "metadata": {
        "id": "TL6y5d2aOKj6"
      },
      "execution_count": null,
      "outputs": []
    },
    {
      "cell_type": "code",
      "source": [
        "predictions = final_model.predict(df_test)"
      ],
      "metadata": {
        "id": "0AiviTJbOOV1"
      },
      "execution_count": null,
      "outputs": []
    },
    {
      "cell_type": "code",
      "source": [
        "df_test['Prediction'] = predictions\n",
        "df_test.head()"
      ],
      "metadata": {
        "colab": {
          "base_uri": "https://localhost:8080/",
          "height": 215
        },
        "id": "d7PkP6LsOU09",
        "outputId": "4cba7ddc-07d5-446f-a20d-95386f754acc"
      },
      "execution_count": null,
      "outputs": [
        {
          "output_type": "execute_result",
          "data": {
            "text/plain": [
              "   Loan_ID  Gender  Married  Dependents  Education  Self_Employed  \\\n",
              "0        1       2        2           1          1              1   \n",
              "1        2       2        2           2          1              1   \n",
              "2        3       2        2           3          1              1   \n",
              "3        4       2        2           3          1              1   \n",
              "4        5       2        1           1          2              1   \n",
              "\n",
              "   Property_Area  ApplicantIncome  CoapplicantIncome  LoanAmount  \\\n",
              "0              3              252                  1          53   \n",
              "1              3              103                 44          68   \n",
              "2              3              231                 68         120   \n",
              "3              3               44                111          43   \n",
              "4              3              121                  1          26   \n",
              "\n",
              "   Loan_Amount_Term  Credit_History  Prediction  \n",
              "0                11               2           1  \n",
              "1                11               2           1  \n",
              "2                11               2           0  \n",
              "3                11               2           1  \n",
              "4                11               2           0  "
            ],
            "text/html": [
              "\n",
              "  <div id=\"df-a3ac65d7-5b5f-4494-8078-d3ac1aa61b96\">\n",
              "    <div class=\"colab-df-container\">\n",
              "      <div>\n",
              "<style scoped>\n",
              "    .dataframe tbody tr th:only-of-type {\n",
              "        vertical-align: middle;\n",
              "    }\n",
              "\n",
              "    .dataframe tbody tr th {\n",
              "        vertical-align: top;\n",
              "    }\n",
              "\n",
              "    .dataframe thead th {\n",
              "        text-align: right;\n",
              "    }\n",
              "</style>\n",
              "<table border=\"1\" class=\"dataframe\">\n",
              "  <thead>\n",
              "    <tr style=\"text-align: right;\">\n",
              "      <th></th>\n",
              "      <th>Loan_ID</th>\n",
              "      <th>Gender</th>\n",
              "      <th>Married</th>\n",
              "      <th>Dependents</th>\n",
              "      <th>Education</th>\n",
              "      <th>Self_Employed</th>\n",
              "      <th>Property_Area</th>\n",
              "      <th>ApplicantIncome</th>\n",
              "      <th>CoapplicantIncome</th>\n",
              "      <th>LoanAmount</th>\n",
              "      <th>Loan_Amount_Term</th>\n",
              "      <th>Credit_History</th>\n",
              "      <th>Prediction</th>\n",
              "    </tr>\n",
              "  </thead>\n",
              "  <tbody>\n",
              "    <tr>\n",
              "      <th>0</th>\n",
              "      <td>1</td>\n",
              "      <td>2</td>\n",
              "      <td>2</td>\n",
              "      <td>1</td>\n",
              "      <td>1</td>\n",
              "      <td>1</td>\n",
              "      <td>3</td>\n",
              "      <td>252</td>\n",
              "      <td>1</td>\n",
              "      <td>53</td>\n",
              "      <td>11</td>\n",
              "      <td>2</td>\n",
              "      <td>1</td>\n",
              "    </tr>\n",
              "    <tr>\n",
              "      <th>1</th>\n",
              "      <td>2</td>\n",
              "      <td>2</td>\n",
              "      <td>2</td>\n",
              "      <td>2</td>\n",
              "      <td>1</td>\n",
              "      <td>1</td>\n",
              "      <td>3</td>\n",
              "      <td>103</td>\n",
              "      <td>44</td>\n",
              "      <td>68</td>\n",
              "      <td>11</td>\n",
              "      <td>2</td>\n",
              "      <td>1</td>\n",
              "    </tr>\n",
              "    <tr>\n",
              "      <th>2</th>\n",
              "      <td>3</td>\n",
              "      <td>2</td>\n",
              "      <td>2</td>\n",
              "      <td>3</td>\n",
              "      <td>1</td>\n",
              "      <td>1</td>\n",
              "      <td>3</td>\n",
              "      <td>231</td>\n",
              "      <td>68</td>\n",
              "      <td>120</td>\n",
              "      <td>11</td>\n",
              "      <td>2</td>\n",
              "      <td>0</td>\n",
              "    </tr>\n",
              "    <tr>\n",
              "      <th>3</th>\n",
              "      <td>4</td>\n",
              "      <td>2</td>\n",
              "      <td>2</td>\n",
              "      <td>3</td>\n",
              "      <td>1</td>\n",
              "      <td>1</td>\n",
              "      <td>3</td>\n",
              "      <td>44</td>\n",
              "      <td>111</td>\n",
              "      <td>43</td>\n",
              "      <td>11</td>\n",
              "      <td>2</td>\n",
              "      <td>1</td>\n",
              "    </tr>\n",
              "    <tr>\n",
              "      <th>4</th>\n",
              "      <td>5</td>\n",
              "      <td>2</td>\n",
              "      <td>1</td>\n",
              "      <td>1</td>\n",
              "      <td>2</td>\n",
              "      <td>1</td>\n",
              "      <td>3</td>\n",
              "      <td>121</td>\n",
              "      <td>1</td>\n",
              "      <td>26</td>\n",
              "      <td>11</td>\n",
              "      <td>2</td>\n",
              "      <td>0</td>\n",
              "    </tr>\n",
              "  </tbody>\n",
              "</table>\n",
              "</div>\n",
              "      <button class=\"colab-df-convert\" onclick=\"convertToInteractive('df-a3ac65d7-5b5f-4494-8078-d3ac1aa61b96')\"\n",
              "              title=\"Convert this dataframe to an interactive table.\"\n",
              "              style=\"display:none;\">\n",
              "        \n",
              "  <svg xmlns=\"http://www.w3.org/2000/svg\" height=\"24px\"viewBox=\"0 0 24 24\"\n",
              "       width=\"24px\">\n",
              "    <path d=\"M0 0h24v24H0V0z\" fill=\"none\"/>\n",
              "    <path d=\"M18.56 5.44l.94 2.06.94-2.06 2.06-.94-2.06-.94-.94-2.06-.94 2.06-2.06.94zm-11 1L8.5 8.5l.94-2.06 2.06-.94-2.06-.94L8.5 2.5l-.94 2.06-2.06.94zm10 10l.94 2.06.94-2.06 2.06-.94-2.06-.94-.94-2.06-.94 2.06-2.06.94z\"/><path d=\"M17.41 7.96l-1.37-1.37c-.4-.4-.92-.59-1.43-.59-.52 0-1.04.2-1.43.59L10.3 9.45l-7.72 7.72c-.78.78-.78 2.05 0 2.83L4 21.41c.39.39.9.59 1.41.59.51 0 1.02-.2 1.41-.59l7.78-7.78 2.81-2.81c.8-.78.8-2.07 0-2.86zM5.41 20L4 18.59l7.72-7.72 1.47 1.35L5.41 20z\"/>\n",
              "  </svg>\n",
              "      </button>\n",
              "      \n",
              "  <style>\n",
              "    .colab-df-container {\n",
              "      display:flex;\n",
              "      flex-wrap:wrap;\n",
              "      gap: 12px;\n",
              "    }\n",
              "\n",
              "    .colab-df-convert {\n",
              "      background-color: #E8F0FE;\n",
              "      border: none;\n",
              "      border-radius: 50%;\n",
              "      cursor: pointer;\n",
              "      display: none;\n",
              "      fill: #1967D2;\n",
              "      height: 32px;\n",
              "      padding: 0 0 0 0;\n",
              "      width: 32px;\n",
              "    }\n",
              "\n",
              "    .colab-df-convert:hover {\n",
              "      background-color: #E2EBFA;\n",
              "      box-shadow: 0px 1px 2px rgba(60, 64, 67, 0.3), 0px 1px 3px 1px rgba(60, 64, 67, 0.15);\n",
              "      fill: #174EA6;\n",
              "    }\n",
              "\n",
              "    [theme=dark] .colab-df-convert {\n",
              "      background-color: #3B4455;\n",
              "      fill: #D2E3FC;\n",
              "    }\n",
              "\n",
              "    [theme=dark] .colab-df-convert:hover {\n",
              "      background-color: #434B5C;\n",
              "      box-shadow: 0px 1px 3px 1px rgba(0, 0, 0, 0.15);\n",
              "      filter: drop-shadow(0px 1px 2px rgba(0, 0, 0, 0.3));\n",
              "      fill: #FFFFFF;\n",
              "    }\n",
              "  </style>\n",
              "\n",
              "      <script>\n",
              "        const buttonEl =\n",
              "          document.querySelector('#df-a3ac65d7-5b5f-4494-8078-d3ac1aa61b96 button.colab-df-convert');\n",
              "        buttonEl.style.display =\n",
              "          google.colab.kernel.accessAllowed ? 'block' : 'none';\n",
              "\n",
              "        async function convertToInteractive(key) {\n",
              "          const element = document.querySelector('#df-a3ac65d7-5b5f-4494-8078-d3ac1aa61b96');\n",
              "          const dataTable =\n",
              "            await google.colab.kernel.invokeFunction('convertToInteractive',\n",
              "                                                     [key], {});\n",
              "          if (!dataTable) return;\n",
              "\n",
              "          const docLinkHtml = 'Like what you see? Visit the ' +\n",
              "            '<a target=\"_blank\" href=https://colab.research.google.com/notebooks/data_table.ipynb>data table notebook</a>'\n",
              "            + ' to learn more about interactive tables.';\n",
              "          element.innerHTML = '';\n",
              "          dataTable['output_type'] = 'display_data';\n",
              "          await google.colab.output.renderOutput(dataTable, element);\n",
              "          const docLink = document.createElement('div');\n",
              "          docLink.innerHTML = docLinkHtml;\n",
              "          element.appendChild(docLink);\n",
              "        }\n",
              "      </script>\n",
              "    </div>\n",
              "  </div>\n",
              "  "
            ]
          },
          "metadata": {},
          "execution_count": 114
        }
      ]
    },
    {
      "cell_type": "code",
      "source": [
        "df_test.Prediction.value_counts()"
      ],
      "metadata": {
        "colab": {
          "base_uri": "https://localhost:8080/"
        },
        "id": "4HufWjTaObAc",
        "outputId": "3a9f6abf-e954-4613-e925-603688086576"
      },
      "execution_count": null,
      "outputs": [
        {
          "output_type": "execute_result",
          "data": {
            "text/plain": [
              "0    244\n",
              "1    123\n",
              "Name: Prediction, dtype: int64"
            ]
          },
          "metadata": {},
          "execution_count": 115
        }
      ]
    }
  ]
}